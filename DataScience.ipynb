{
 "cells": [
  {
   "cell_type": "code",
   "execution_count": 20,
   "metadata": {},
   "outputs": [
    {
     "name": "stdout",
     "output_type": "stream",
     "text": [
      "<html>\n",
      " <body>\n",
      "  <p>\n",
      "   html.parser\n",
      "  </p>\n",
      " </body>\n",
      "</html>\n",
      "None\n"
     ]
    },
    {
     "ename": "AttributeError",
     "evalue": "'NoneType' object has no attribute 'string'",
     "output_type": "error",
     "traceback": [
      "\u001b[1;31m---------------------------------------------------------------------------\u001b[0m",
      "\u001b[1;31mAttributeError\u001b[0m                            Traceback (most recent call last)",
      "\u001b[1;32m<ipython-input-20-d42fa458ec2a>\u001b[0m in \u001b[0;36m<module>\u001b[1;34m\u001b[0m\n\u001b[0;32m     11\u001b[0m \u001b[0mprint\u001b[0m\u001b[1;33m(\u001b[0m\u001b[0mstrhtm\u001b[0m\u001b[1;33m[\u001b[0m\u001b[1;33m:\u001b[0m\u001b[1;36m225\u001b[0m\u001b[1;33m]\u001b[0m\u001b[1;33m)\u001b[0m\u001b[1;33m\u001b[0m\u001b[1;33m\u001b[0m\u001b[0m\n\u001b[0;32m     12\u001b[0m \u001b[0mprint\u001b[0m\u001b[1;33m(\u001b[0m\u001b[0msoup\u001b[0m\u001b[1;33m.\u001b[0m\u001b[0mtitle\u001b[0m\u001b[1;33m)\u001b[0m\u001b[1;33m\u001b[0m\u001b[1;33m\u001b[0m\u001b[0m\n\u001b[1;32m---> 13\u001b[1;33m \u001b[0mprint\u001b[0m\u001b[1;33m(\u001b[0m\u001b[0msoup\u001b[0m\u001b[1;33m.\u001b[0m\u001b[0mb\u001b[0m\u001b[1;33m.\u001b[0m\u001b[0mstring\u001b[0m\u001b[1;33m)\u001b[0m\u001b[1;33m\u001b[0m\u001b[1;33m\u001b[0m\u001b[0m\n\u001b[0m",
      "\u001b[1;31mAttributeError\u001b[0m: 'NoneType' object has no attribute 'string'"
     ]
    }
   ],
   "source": [
    "#read the html file\n",
    "import urllib.request\n",
    "from bs4 import BeautifulSoup\n",
    "#fetch the html\n",
    "source = urllib.request.urlopen('https://www.tutorialspoint.com/python/index.htm').read()\n",
    "#parse the html file\n",
    "soup=BeautifulSoup('html.parser')\n",
    "#format the parsed html file\n",
    "strhtm=soup.prettify()\n",
    "#print the first few chractor\n",
    "print(strhtm[:225])\n",
    "print(soup.title)\n",
    "print(soup.b.string)"
   ]
  },
  {
   "cell_type": "code",
   "execution_count": 1,
   "metadata": {},
   "outputs": [
    {
     "name": "stdout",
     "output_type": "stream",
     "text": [
      "tf.Tensor(1321.3306, shape=(), dtype=float32)\n"
     ]
    }
   ],
   "source": [
    "import tensorflow as tf\n",
    "print(tf.reduce_sum(tf.random.normal([1000, 1000])))"
   ]
  },
  {
   "cell_type": "code",
   "execution_count": 6,
   "metadata": {},
   "outputs": [],
   "source": [
    "from gtts import gTTS\n",
    "from playsound import playsound\n",
    "t=\"i like python programming\"\n",
    "language=\"en\"\n",
    "obj=gTTS(text=t,lang=language,slow=False)\n",
    "obj.save(\"myintro.mp3\")\n"
   ]
  },
  {
   "cell_type": "code",
   "execution_count": 7,
   "metadata": {},
   "outputs": [],
   "source": [
    "playsound(\"myintro.mp3\")\n"
   ]
  },
  {
   "cell_type": "code",
   "execution_count": null,
   "metadata": {},
   "outputs": [
    {
     "name": "stdout",
     "output_type": "stream",
     "text": [
      "In 48563 seconds web.whatsapp.com will open and after 20 seconds message will be delivered\n"
     ]
    }
   ],
   "source": [
    "import pywhatkit as kit\n",
    "kit.sendwhatmsg(\"+923357341111\",\"focus on development\",11,20)"
   ]
  },
  {
   "cell_type": "code",
   "execution_count": 4,
   "metadata": {},
   "outputs": [
    {
     "name": "stdout",
     "output_type": "stream",
     "text": [
      "<bound method NDFrame.head of       Unnamed: 0      Date              HomeTeam           AwayTeam HalfTime  \\\n",
      "0              0  28/08/10         Panathinaikos             Xanthi      1:0   \n",
      "1              1  28/08/10             Panionios   Olympiakos Volou      0:0   \n",
      "2              2  28/08/10               Larissa  Atromitos Athinon      0:0   \n",
      "3              3  28/08/10  Iraklis Thessaloniki         Olympiacos      0:0   \n",
      "4              4  29/08/10             Ergotelis           Tripolis      0:1   \n",
      "...          ...       ...                   ...                ...      ...   \n",
      "2617        2617  19/07/20                  PAOK  Aris Thessaloniki     1.14   \n",
      "2618        2618  19/07/20         Panathinaikos              Crete     1.50   \n",
      "2619        2619  22/08/20                Xanthi            Smyrnis     4.75   \n",
      "2620        2620  26/08/20                Xanthi            Smyrnis     8.00   \n",
      "2621        2621  29/08/20               Smyrnis             Xanthi     1.28   \n",
      "\n",
      "     FullTime  HTHGS  HTAGS  FTHGS  FTAGS FTR  HWS  AWS season  \\\n",
      "0         1:1    1.0    0.0    1.0    1.0   D  0.0  0.0  2858/   \n",
      "1         0:1    0.0    0.0    0.0    1.0   L  0.0  1.0  2858/   \n",
      "2         1:0    0.0    0.0    0.0    0.0   W  1.0  0.0  2858/   \n",
      "3         2:1    0.0    0.0    0.0    1.0   W  1.0  0.0  2858/   \n",
      "4         0:1    0.0    1.0    0.0    1.0   L  0.0  1.0  2858/   \n",
      "...       ...    ...    ...    ...    ...  ..  ...  ...    ...   \n",
      "2617     6.50    1.0    4.0    1.0    0.0   W  3.0  1.0  66983   \n",
      "2618     4.33    1.0    0.0    1.0    3.0   W  2.0  3.0  66983   \n",
      "2619     3.75    4.0    5.0    4.0    5.0   L  1.0  1.0  66983   \n",
      "2620     3.75    8.0    0.0    8.0    5.0   L  1.0  2.0  66983   \n",
      "2621     4.75    1.0    8.0    1.0    5.0   L  2.0  1.0  66983   \n",
      "\n",
      "               league   year  region  \n",
      "0       Super League   10/11  Greece  \n",
      "1       Super League   10/11  Greece  \n",
      "2       Super League   10/11  Greece  \n",
      "3       Super League   10/11  Greece  \n",
      "4       Super League   10/11  Greece  \n",
      "...               ...    ...     ...  \n",
      "2617  Super League 1   19/20  Greece  \n",
      "2618  Super League 1   19/20  Greece  \n",
      "2619  Super League 1   19/20  Greece  \n",
      "2620  Super League 1   19/20  Greece  \n",
      "2621  Super League 1   19/20  Greece  \n",
      "\n",
      "[2622 rows x 17 columns]>\n"
     ]
    }
   ],
   "source": [
    "import pandas as pd\n",
    "import pymysql\n",
    "con=pymysql.connect(host=\"localhost\",user=\"root\",password=\"\",db=\"CVML\")\n",
    "df=pd.read_csv(\"SuperLeague.csv\")\n",
    "all_values=[]\n",
    "for row in df:\n",
    "    values=(row[0],row[1])\n",
    "    all_values.append(values)\n",
    "\n",
    "quary=\"insert into `team`('teamName') values(%s)\"\n",
    "\n",
    "c.execute(quary, all_values)\n",
    "con.commit()"
   ]
  },
  {
   "cell_type": "code",
   "execution_count": null,
   "metadata": {},
   "outputs": [],
   "source": []
  },
  {
   "cell_type": "code",
   "execution_count": 2,
   "metadata": {},
   "outputs": [
    {
     "name": "stdout",
     "output_type": "stream",
     "text": [
      "In 35 seconds web.whatsapp.com will open and after 20 seconds message will be delivered\n"
     ]
    }
   ],
   "source": [
    "import pywhatkit as kit\n",
    "kit.sendwhatmsg(\"+9231104146111\",\"focus on development\",11,29)"
   ]
  },
  {
   "cell_type": "code",
   "execution_count": 42,
   "metadata": {},
   "outputs": [
    {
     "name": "stdout",
     "output_type": "stream",
     "text": [
      "Speak Anything :\n",
      "audio is listning!\n",
      "You said : mera naam lena hai\n",
      "enter 1 to convert to speech 1\n"
     ]
    },
    {
     "ename": "PermissionError",
     "evalue": "[Errno 13] Permission denied: 'myintro.mp3'",
     "output_type": "error",
     "traceback": [
      "\u001b[1;31m---------------------------------------------------------------------------\u001b[0m",
      "\u001b[1;31mPermissionError\u001b[0m                           Traceback (most recent call last)",
      "\u001b[1;32m<ipython-input-42-7bd35197c9e7>\u001b[0m in \u001b[0;36m<module>\u001b[1;34m\u001b[0m\n\u001b[0;32m     17\u001b[0m     \u001b[0mlanguage\u001b[0m \u001b[1;33m=\u001b[0m \u001b[1;34m\"en\"\u001b[0m\u001b[1;33m\u001b[0m\u001b[1;33m\u001b[0m\u001b[0m\n\u001b[0;32m     18\u001b[0m     \u001b[0mobj\u001b[0m \u001b[1;33m=\u001b[0m \u001b[0mgTTS\u001b[0m\u001b[1;33m(\u001b[0m\u001b[0mtext\u001b[0m\u001b[1;33m=\u001b[0m\u001b[0mt\u001b[0m\u001b[1;33m,\u001b[0m \u001b[0mlang\u001b[0m\u001b[1;33m=\u001b[0m\u001b[0mlanguage\u001b[0m\u001b[1;33m,\u001b[0m \u001b[0mslow\u001b[0m\u001b[1;33m=\u001b[0m\u001b[1;32mFalse\u001b[0m\u001b[1;33m)\u001b[0m\u001b[1;33m\u001b[0m\u001b[1;33m\u001b[0m\u001b[0m\n\u001b[1;32m---> 19\u001b[1;33m     \u001b[0mobj\u001b[0m\u001b[1;33m.\u001b[0m\u001b[0msave\u001b[0m\u001b[1;33m(\u001b[0m\u001b[1;34m\"myintro.mp3\"\u001b[0m\u001b[1;33m)\u001b[0m\u001b[1;33m\u001b[0m\u001b[1;33m\u001b[0m\u001b[0m\n\u001b[0m\u001b[0;32m     20\u001b[0m     \u001b[0mplaysound\u001b[0m\u001b[1;33m(\u001b[0m\u001b[1;34m\"myintro.mp3\"\u001b[0m\u001b[1;33m)\u001b[0m\u001b[1;33m\u001b[0m\u001b[1;33m\u001b[0m\u001b[0m\n\u001b[0;32m     21\u001b[0m \u001b[1;32melse\u001b[0m\u001b[1;33m:\u001b[0m \u001b[1;32mpass\u001b[0m\u001b[1;33m\u001b[0m\u001b[1;33m\u001b[0m\u001b[0m\n",
      "\u001b[1;32m~\\anaconda3\\lib\\site-packages\\gtts\\tts.py\u001b[0m in \u001b[0;36msave\u001b[1;34m(self, savefile)\u001b[0m\n\u001b[0;32m    309\u001b[0m \u001b[1;33m\u001b[0m\u001b[0m\n\u001b[0;32m    310\u001b[0m         \"\"\"\n\u001b[1;32m--> 311\u001b[1;33m         \u001b[1;32mwith\u001b[0m \u001b[0mopen\u001b[0m\u001b[1;33m(\u001b[0m\u001b[0mstr\u001b[0m\u001b[1;33m(\u001b[0m\u001b[0msavefile\u001b[0m\u001b[1;33m)\u001b[0m\u001b[1;33m,\u001b[0m \u001b[1;34m'wb'\u001b[0m\u001b[1;33m)\u001b[0m \u001b[1;32mas\u001b[0m \u001b[0mf\u001b[0m\u001b[1;33m:\u001b[0m\u001b[1;33m\u001b[0m\u001b[1;33m\u001b[0m\u001b[0m\n\u001b[0m\u001b[0;32m    312\u001b[0m             \u001b[0mself\u001b[0m\u001b[1;33m.\u001b[0m\u001b[0mwrite_to_fp\u001b[0m\u001b[1;33m(\u001b[0m\u001b[0mf\u001b[0m\u001b[1;33m)\u001b[0m\u001b[1;33m\u001b[0m\u001b[1;33m\u001b[0m\u001b[0m\n\u001b[0;32m    313\u001b[0m             \u001b[0mlog\u001b[0m\u001b[1;33m.\u001b[0m\u001b[0mdebug\u001b[0m\u001b[1;33m(\u001b[0m\u001b[1;34m\"Saved to %s\"\u001b[0m\u001b[1;33m,\u001b[0m \u001b[0msavefile\u001b[0m\u001b[1;33m)\u001b[0m\u001b[1;33m\u001b[0m\u001b[1;33m\u001b[0m\u001b[0m\n",
      "\u001b[1;31mPermissionError\u001b[0m: [Errno 13] Permission denied: 'myintro.mp3'"
     ]
    }
   ],
   "source": [
    "import speech_recognition as sr\n",
    "from gtts import gTTS\n",
    "from playsound import playsound\n",
    "r = sr.Recognizer()\n",
    "with sr.Microphone() as source:\n",
    "    print(\"Speak Anything :\")\n",
    "    audio = r.listen(source)\n",
    "    print(\"audio is listning!\")\n",
    "    try:\n",
    "        text = r.recognize_google(audio)\n",
    "        print(\"You said : {}\".format(text))\n",
    "    except:\n",
    "        print(\"Sorry could not recognize what you said\")\n",
    "userinp=input('enter 1 to convert to speech ')\n",
    "if userinp=='1':\n",
    "    t=text\n",
    "    language = \"en\"\n",
    "    obj = gTTS(text=t, lang=language, slow=False)\n",
    "    obj.save(\"myintro.mp3\")\n",
    "    playsound(\"myintro.mp3\")\n",
    "else: pass"
   ]
  },
  {
   "cell_type": "code",
   "execution_count": null,
   "metadata": {},
   "outputs": [],
   "source": []
  },
  {
   "cell_type": "code",
   "execution_count": null,
   "metadata": {},
   "outputs": [],
   "source": []
  },
  {
   "cell_type": "code",
   "execution_count": null,
   "metadata": {},
   "outputs": [],
   "source": []
  }
 ],
 "metadata": {
  "kernelspec": {
   "display_name": "Python 3",
   "language": "python",
   "name": "python3"
  },
  "language_info": {
   "codemirror_mode": {
    "name": "ipython",
    "version": 3
   },
   "file_extension": ".py",
   "mimetype": "text/x-python",
   "name": "python",
   "nbconvert_exporter": "python",
   "pygments_lexer": "ipython3",
   "version": "3.9.2"
  }
 },
 "nbformat": 4,
 "nbformat_minor": 4
}
