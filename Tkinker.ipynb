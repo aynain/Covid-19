{
 "cells": [
  {
   "cell_type": "code",
   "execution_count": 1,
   "metadata": {},
   "outputs": [],
   "source": [
    "import tkinter\n",
    " \n",
    "window = tkinter.Tk()\n",
    "window.title(\"GUI\") # to rename the title of the window\n",
    "\n",
    "label = tkinter.Label(window, text = \"Hello World!\").pack()\n",
    " \n",
    "window.mainloop()\n",
    "\n",
    "# pack is used to show the object in the window"
   ]
  },
  {
   "cell_type": "code",
   "execution_count": 2,
   "metadata": {},
   "outputs": [],
   "source": [
    "#button widget\n",
    "window = tkinter.Tk()\n",
    "\n",
    "bt = tkinter.Button (window, text=\"Enter\", width=20, bg=\"orange\", fg=\"white\")\n",
    " \n",
    "bt.grid (column=1, row=0)        #grid function which is used to set the position of the button on the window\n",
    "\n",
    "window.mainloop()"
   ]
  },
  {
   "cell_type": "code",
   "execution_count": 9,
   "metadata": {},
   "outputs": [],
   "source": [
    "#entry widget\n",
    "from tkinter.ttk import *\n",
    "window = tkinter.Tk()\n",
    "\n",
    "txt = Entry(window,width=10)\n",
    "\n",
    "txt.grid(column=1, row=0)\n",
    "\n",
    "window.mainloop()"
   ]
  },
  {
   "cell_type": "code",
   "execution_count": 12,
   "metadata": {},
   "outputs": [],
   "source": [
    "#combobox widget\n",
    "window = tkinter.Tk()\n",
    "window.title(\"comboBox\")\n",
    "combo = Combobox(window)\n",
    "combo['values']= (1, 2, 3, 4, 5, \"Text\")\n",
    "combo.current(3)\n",
    "combo.grid(column=0, row=0)\n",
    "window.mainloop()"
   ]
  },
  {
   "cell_type": "code",
   "execution_count": 10,
   "metadata": {},
   "outputs": [],
   "source": [
    "#check button\n",
    "from tkinter import *\n",
    "window = tkinter.Tk()\n",
    "chk_state = BooleanVar()\n",
    "chk_state.set (True)\n",
    "chk = Checkbutton(window, text='Select', var=chk_state)\n",
    "chk.grid(column=0, row=0)\n",
    "window.mainloop()"
   ]
  },
  {
   "cell_type": "code",
   "execution_count": 13,
   "metadata": {},
   "outputs": [],
   "source": [
    "from tkinter import *\n",
    "window = tkinter.Tk()\n",
    "#radio button\n",
    "rad1 = Radiobutton(window, text='Python', value=1)\n",
    "rad2 = Radiobutton(window, text='Java', value=2)\n",
    "rad3 = Radiobutton(window, text='Scala', value=3)\n",
    "rad1.grid(column=0, row=0)\n",
    "rad2.grid(column=1, row=0)\n",
    "rad3.grid(column=2, row=0)\n",
    "window.mainloop()"
   ]
  },
  {
   "cell_type": "code",
   "execution_count": 6,
   "metadata": {},
   "outputs": [],
   "source": [
    "import tkinter\n",
    "window = tkinter.Tk()\n",
    "window.title(\"GUI\")\n",
    "# creating 2 frames TOP and BOTTOM\n",
    "top_frame = tkinter.Frame(window).pack()\n",
    "bottom_frame = tkinter.Frame(window).pack(side = \"bottom\")\n",
    "# now, create some widgets in the top_frame and bottom_frame\n",
    "btn1 = tkinter.Button(top_frame, text = \"Button1\", fg = \"red\").pack()# 'fg - foreground' is used to color the contents\n",
    "btn2 = tkinter.Button(top_frame, text = \"Button2\", fg = \"green\").pack()# 'text' is used to write the text on the Button\n",
    "btn3 = tkinter.Button(bottom_frame, text = \"Button2\", fg = \"purple\").pack(side = \"left\")# 'side' is used to align the widgets\n",
    "btn4 = tkinter.Button(bottom_frame, text = \"Button2\", fg = \"orange\").pack(side = \"left\")\n",
    "window.mainloop()"
   ]
  },
  {
   "cell_type": "code",
   "execution_count": 8,
   "metadata": {},
   "outputs": [],
   "source": [
    "import tkinter\n",
    "window = tkinter.Tk()\n",
    "window.title(\"Login\")\n",
    "# creating 2 text labels and input labels\n",
    "tkinter.Label(window, text = \"Username\").grid(row = 0) # this is placed in 0 0\n",
    "# 'Entry' is used to display the input-field\n",
    "tkinter.Entry(window).grid(row = 0, column = 1) # this is placed in 0 1\n",
    "tkinter.Label(window, text = \"Password\").grid(row = 1) # this is placed in 1 0\n",
    "tkinter.Entry(window).grid(row = 1, column = 1) # this is placed in 1 1\n",
    "# 'Checkbutton' is used to create the check buttons\n",
    "tkinter.Checkbutton(window, text = \"Keep Me Logged In\").grid(columnspan = 2) # 'columnspan' tells to take the width of 2 columns\n",
    "# you can also use 'rowspan' in the similar manner\n",
    "bt = Button (window, text=\"Enter\")\n",
    "bt.grid (rowspan=5)\n",
    "window.mainloop()"
   ]
  },
  {
   "cell_type": "code",
   "execution_count": 11,
   "metadata": {},
   "outputs": [],
   "source": []
  },
  {
   "cell_type": "code",
   "execution_count": null,
   "metadata": {},
   "outputs": [],
   "source": []
  }
 ],
 "metadata": {
  "kernelspec": {
   "display_name": "Python 3",
   "language": "python",
   "name": "python3"
  },
  "language_info": {
   "codemirror_mode": {
    "name": "ipython",
    "version": 3
   },
   "file_extension": ".py",
   "mimetype": "text/x-python",
   "name": "python",
   "nbconvert_exporter": "python",
   "pygments_lexer": "ipython3",
   "version": "3.9.2"
  }
 },
 "nbformat": 4,
 "nbformat_minor": 4
}
