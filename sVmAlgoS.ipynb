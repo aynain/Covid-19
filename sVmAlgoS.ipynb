{
 "cells": [
  {
   "cell_type": "code",
   "execution_count": 6,
   "metadata": {},
   "outputs": [
    {
     "name": "stdout",
     "output_type": "stream",
     "text": [
      "0.56875\n",
      "              precision    recall  f1-score   support\n",
      "\n",
      "           3       0.00      0.00      0.00         0\n",
      "           4       0.00      0.00      0.00         0\n",
      "           5       0.78      0.61      0.68       165\n",
      "           6       0.61      0.52      0.56       155\n",
      "           7       0.00      0.00      0.00         0\n",
      "           8       0.00      0.00      0.00         0\n",
      "\n",
      "    accuracy                           0.57       320\n",
      "   macro avg       0.23      0.19      0.21       320\n",
      "weighted avg       0.70      0.57      0.63       320\n",
      "\n",
      "{'gamma': 'scale', 'kernel': 'linear'}\n"
     ]
    },
    {
     "name": "stderr",
     "output_type": "stream",
     "text": [
      "C:\\ProgramData\\Anaconda3\\lib\\site-packages\\sklearn\\metrics\\_classification.py:1221: UndefinedMetricWarning: Recall and F-score are ill-defined and being set to 0.0 in labels with no true samples. Use `zero_division` parameter to control this behavior.\n",
      "  _warn_prf(average, modifier, msg_start, len(result))\n"
     ]
    }
   ],
   "source": [
    "import numpy as np\n",
    "import pandas as pd\n",
    "from numpy import mean\n",
    "from sklearn import svm\n",
    "from sklearn.model_selection import train_test_split \n",
    "from sklearn.model_selection import cross_val_score,GridSearchCV\n",
    "from sklearn.metrics import accuracy_score,classification_report\n",
    "\n",
    "df=pd.read_csv('winequality-red.csv')\n",
    "x=df[list(df.columns)[ :-1]]\n",
    "y=df['quality']\n",
    "x,x_test,y,y_test=train_test_split(x,y,test_size=0.2,random_state=42)\n",
    "k=['linear', 'poly', 'rbf', 'sigmoid']\n",
    "g=['scale']\n",
    "grid=dict(kernel=k,gamma=g)\n",
    "imodel= svm.SVC(C=1,random_state=42)\n",
    "model=GridSearchCV(estimator=imodel,param_grid=grid)\n",
    "model.fit(x,y)\n",
    "p=model.predict(x_test)\n",
    "print(accuracy_score(p,y_test))\n",
    "print(classification_report(p,y_test))\n",
    "print(model.best_params_)"
   ]
  },
  {
   "cell_type": "markdown",
   "metadata": {},
   "source": []
  },
  {
   "cell_type": "code",
   "execution_count": 4,
   "metadata": {},
   "outputs": [
    {
     "name": "stdout",
     "output_type": "stream",
     "text": [
      "0.578125\n",
      "              precision    recall  f1-score   support\n",
      "\n",
      "           3       0.00      0.00      0.00         0\n",
      "           4       0.00      0.00      0.00         0\n",
      "           5       0.72      0.64      0.68       156\n",
      "           6       0.66      0.52      0.58       164\n",
      "           7       0.00      0.00      0.00         0\n",
      "           8       0.00      0.00      0.00         0\n",
      "\n",
      "    accuracy                           0.58       320\n",
      "   macro avg       0.23      0.19      0.21       320\n",
      "weighted avg       0.69      0.58      0.63       320\n",
      "\n"
     ]
    },
    {
     "name": "stderr",
     "output_type": "stream",
     "text": [
      "C:\\ProgramData\\Anaconda3\\lib\\site-packages\\sklearn\\metrics\\_classification.py:1221: UndefinedMetricWarning: Recall and F-score are ill-defined and being set to 0.0 in labels with no true samples. Use `zero_division` parameter to control this behavior.\n",
      "  _warn_prf(average, modifier, msg_start, len(result))\n"
     ]
    }
   ],
   "source": [
    "import pandas as pd\n",
    "import numpy as np\n",
    "from numpy import mean\n",
    "from sklearn import svm\n",
    "from sklearn.model_selection import train_test_split \n",
    "from sklearn.model_selection import cross_val_score\n",
    "from sklearn.metrics import accuracy_score,classification_report\n",
    "\n",
    "df=pd.read_csv('winequality-red.csv')\n",
    "x=df[list(df.columns)[ :-1]]\n",
    "y=df['quality']\n",
    "x,x_test,y,y_test=train_test_split(x,y,test_size=0.2)\n",
    "model= svm.SVC(C=1,random_state=42,kernel='linear',gamma='scale')\n",
    "model.fit(x,y)\n",
    "p=model.predict(x_test)\n",
    "print(accuracy_score(p,y_test))\n",
    "print(classification_report(p,y_test))"
   ]
  },
  {
   "cell_type": "code",
   "execution_count": 2,
   "metadata": {},
   "outputs": [
    {
     "name": "stdout",
     "output_type": "stream",
     "text": [
      "0.5\n",
      "              precision    recall  f1-score   support\n",
      "\n",
      "           3       0.00      0.00      0.00         0\n",
      "           4       0.00      0.00      0.00         0\n",
      "           5       0.39      0.68      0.49        72\n",
      "           6       0.85      0.45      0.59       247\n",
      "           7       0.02      1.00      0.04         1\n",
      "           8       0.00      0.00      0.00         0\n",
      "\n",
      "    accuracy                           0.50       320\n",
      "   macro avg       0.21      0.35      0.19       320\n",
      "weighted avg       0.75      0.50      0.56       320\n",
      "\n"
     ]
    },
    {
     "name": "stderr",
     "output_type": "stream",
     "text": [
      "C:\\ProgramData\\Anaconda3\\lib\\site-packages\\sklearn\\metrics\\_classification.py:1221: UndefinedMetricWarning: Recall and F-score are ill-defined and being set to 0.0 in labels with no true samples. Use `zero_division` parameter to control this behavior.\n",
      "  _warn_prf(average, modifier, msg_start, len(result))\n"
     ]
    }
   ],
   "source": [
    "import pandas as pd\n",
    "import numpy as np\n",
    "from numpy import mean\n",
    "from sklearn import svm\n",
    "from sklearn.model_selection import train_test_split \n",
    "from sklearn.model_selection import cross_val_score\n",
    "from sklearn.metrics import accuracy_score,classification_report\n",
    "\n",
    "df=pd.read_csv('winequality-red.csv')\n",
    "x=df[list(df.columns)[ :-1]]\n",
    "y=df['quality']\n",
    "x,x_test,y,y_test=train_test_split(x,y,test_size=0.2)\n",
    "model= svm.SVC(C=1,random_state=42,kernel='poly',gamma='scale')\n",
    "model.fit(x,y)\n",
    "p=model.predict(x_test)\n",
    "print(accuracy_score(p,y_test))\n",
    "print(classification_report(p,y_test))"
   ]
  },
  {
   "cell_type": "code",
   "execution_count": 14,
   "metadata": {},
   "outputs": [
    {
     "name": "stdout",
     "output_type": "stream",
     "text": [
      "0.484375\n",
      "              precision    recall  f1-score   support\n",
      "\n",
      "           3       0.00      0.00      0.00         0\n",
      "           4       0.00      0.00      0.00         0\n",
      "           5       0.39      0.65      0.48        85\n",
      "           6       0.79      0.43      0.55       235\n",
      "           7       0.00      0.00      0.00         0\n",
      "           8       0.00      0.00      0.00         0\n",
      "\n",
      "    accuracy                           0.48       320\n",
      "   macro avg       0.20      0.18      0.17       320\n",
      "weighted avg       0.69      0.48      0.54       320\n",
      "\n"
     ]
    },
    {
     "name": "stderr",
     "output_type": "stream",
     "text": [
      "C:\\ProgramData\\Anaconda3\\lib\\site-packages\\sklearn\\metrics\\_classification.py:1221: UndefinedMetricWarning: Recall and F-score are ill-defined and being set to 0.0 in labels with no true samples. Use `zero_division` parameter to control this behavior.\n",
      "  _warn_prf(average, modifier, msg_start, len(result))\n"
     ]
    }
   ],
   "source": [
    "import pandas as pd\n",
    "import numpy as np\n",
    "from numpy import mean\n",
    "from sklearn import svm\n",
    "from sklearn.model_selection import train_test_split \n",
    "from sklearn.model_selection import cross_val_score\n",
    "from sklearn.metrics import accuracy_score,classification_report\n",
    "\n",
    "df=pd.read_csv('winequality-red.csv')\n",
    "x=df[list(df.columns)[ :-1]]\n",
    "y=df['quality']\n",
    "x,x_test,y,y_test=train_test_split(x,y,test_size=0.2)\n",
    "model= svm.SVC(C=1,random_state=42,kernel='rbf',gamma='scale')\n",
    "model.fit(x,y)\n",
    "p=model.predict(x_test)\n",
    "print(accuracy_score(p,y_test))\n",
    "print(classification_report(p,y_test))"
   ]
  },
  {
   "cell_type": "code",
   "execution_count": 15,
   "metadata": {},
   "outputs": [
    {
     "name": "stdout",
     "output_type": "stream",
     "text": [
      "0.4\n",
      "              precision    recall  f1-score   support\n",
      "\n",
      "           3       0.00      0.00      0.00         0\n",
      "           4       0.00      0.00      0.00         9\n",
      "           5       0.60      0.46      0.52       202\n",
      "           6       0.26      0.37      0.30        79\n",
      "           7       0.16      0.20      0.18        30\n",
      "           8       0.00      0.00      0.00         0\n",
      "\n",
      "    accuracy                           0.40       320\n",
      "   macro avg       0.17      0.17      0.17       320\n",
      "weighted avg       0.46      0.40      0.42       320\n",
      "\n"
     ]
    },
    {
     "name": "stderr",
     "output_type": "stream",
     "text": [
      "C:\\ProgramData\\Anaconda3\\lib\\site-packages\\sklearn\\metrics\\_classification.py:1221: UndefinedMetricWarning: Recall and F-score are ill-defined and being set to 0.0 in labels with no true samples. Use `zero_division` parameter to control this behavior.\n",
      "  _warn_prf(average, modifier, msg_start, len(result))\n"
     ]
    }
   ],
   "source": [
    "import pandas as pd\n",
    "import numpy as np\n",
    "from numpy import mean\n",
    "from sklearn import svm\n",
    "from sklearn.model_selection import train_test_split \n",
    "from sklearn.model_selection import cross_val_score\n",
    "from sklearn.metrics import accuracy_score,classification_report\n",
    "\n",
    "df=pd.read_csv('winequality-red.csv')\n",
    "x=df[list(df.columns)[ :-1]]\n",
    "y=df['quality']\n",
    "x,x_test,y,y_test=train_test_split(x,y,test_size=0.2)\n",
    "model= svm.SVC(C=1,random_state=42,kernel='sigmoid',gamma='scale')\n",
    "model.fit(x,y)\n",
    "p=model.predict(x_test)\n",
    "print(accuracy_score(p,y_test))\n",
    "print(classification_report(p,y_test))"
   ]
  },
  {
   "cell_type": "code",
   "execution_count": 16,
   "metadata": {},
   "outputs": [
    {
     "ename": "ValueError",
     "evalue": "Precomputed matrix must be a square matrix. Input is a 1279x11 matrix.",
     "output_type": "error",
     "traceback": [
      "\u001b[1;31m---------------------------------------------------------------------------\u001b[0m",
      "\u001b[1;31mValueError\u001b[0m                                Traceback (most recent call last)",
      "\u001b[1;32m<ipython-input-16-16c608b8c177>\u001b[0m in \u001b[0;36m<module>\u001b[1;34m\u001b[0m\n\u001b[0;32m     12\u001b[0m \u001b[0mx\u001b[0m\u001b[1;33m,\u001b[0m\u001b[0mx_test\u001b[0m\u001b[1;33m,\u001b[0m\u001b[0my\u001b[0m\u001b[1;33m,\u001b[0m\u001b[0my_test\u001b[0m\u001b[1;33m=\u001b[0m\u001b[0mtrain_test_split\u001b[0m\u001b[1;33m(\u001b[0m\u001b[0mx\u001b[0m\u001b[1;33m,\u001b[0m\u001b[0my\u001b[0m\u001b[1;33m,\u001b[0m\u001b[0mtest_size\u001b[0m\u001b[1;33m=\u001b[0m\u001b[1;36m0.2\u001b[0m\u001b[1;33m)\u001b[0m\u001b[1;33m\u001b[0m\u001b[1;33m\u001b[0m\u001b[0m\n\u001b[0;32m     13\u001b[0m \u001b[0mmodel\u001b[0m\u001b[1;33m=\u001b[0m \u001b[0msvm\u001b[0m\u001b[1;33m.\u001b[0m\u001b[0mSVC\u001b[0m\u001b[1;33m(\u001b[0m\u001b[0mC\u001b[0m\u001b[1;33m=\u001b[0m\u001b[1;36m1\u001b[0m\u001b[1;33m,\u001b[0m\u001b[0mrandom_state\u001b[0m\u001b[1;33m=\u001b[0m\u001b[1;36m42\u001b[0m\u001b[1;33m,\u001b[0m\u001b[0mkernel\u001b[0m\u001b[1;33m=\u001b[0m\u001b[1;34m'precomputed'\u001b[0m\u001b[1;33m,\u001b[0m\u001b[0mgamma\u001b[0m\u001b[1;33m=\u001b[0m\u001b[1;34m'scale'\u001b[0m\u001b[1;33m)\u001b[0m\u001b[1;33m\u001b[0m\u001b[1;33m\u001b[0m\u001b[0m\n\u001b[1;32m---> 14\u001b[1;33m \u001b[0mmodel\u001b[0m\u001b[1;33m.\u001b[0m\u001b[0mfit\u001b[0m\u001b[1;33m(\u001b[0m\u001b[0mx\u001b[0m\u001b[1;33m,\u001b[0m\u001b[0my\u001b[0m\u001b[1;33m)\u001b[0m\u001b[1;33m\u001b[0m\u001b[1;33m\u001b[0m\u001b[0m\n\u001b[0m\u001b[0;32m     15\u001b[0m \u001b[0mp\u001b[0m\u001b[1;33m=\u001b[0m\u001b[0mmodel\u001b[0m\u001b[1;33m.\u001b[0m\u001b[0mpredict\u001b[0m\u001b[1;33m(\u001b[0m\u001b[0mx_test\u001b[0m\u001b[1;33m)\u001b[0m\u001b[1;33m\u001b[0m\u001b[1;33m\u001b[0m\u001b[0m\n\u001b[0;32m     16\u001b[0m \u001b[0mprint\u001b[0m\u001b[1;33m(\u001b[0m\u001b[0maccuracy_score\u001b[0m\u001b[1;33m(\u001b[0m\u001b[0mp\u001b[0m\u001b[1;33m,\u001b[0m\u001b[0my_test\u001b[0m\u001b[1;33m)\u001b[0m\u001b[1;33m)\u001b[0m\u001b[1;33m\u001b[0m\u001b[1;33m\u001b[0m\u001b[0m\n",
      "\u001b[1;32mC:\\ProgramData\\Anaconda3\\lib\\site-packages\\sklearn\\svm\\_base.py\u001b[0m in \u001b[0;36mfit\u001b[1;34m(self, X, y, sample_weight)\u001b[0m\n\u001b[0;32m    177\u001b[0m \u001b[1;33m\u001b[0m\u001b[0m\n\u001b[0;32m    178\u001b[0m         \u001b[1;32mif\u001b[0m \u001b[0mself\u001b[0m\u001b[1;33m.\u001b[0m\u001b[0mkernel\u001b[0m \u001b[1;33m==\u001b[0m \u001b[1;34m\"precomputed\"\u001b[0m \u001b[1;32mand\u001b[0m \u001b[0mn_samples\u001b[0m \u001b[1;33m!=\u001b[0m \u001b[0mX\u001b[0m\u001b[1;33m.\u001b[0m\u001b[0mshape\u001b[0m\u001b[1;33m[\u001b[0m\u001b[1;36m1\u001b[0m\u001b[1;33m]\u001b[0m\u001b[1;33m:\u001b[0m\u001b[1;33m\u001b[0m\u001b[1;33m\u001b[0m\u001b[0m\n\u001b[1;32m--> 179\u001b[1;33m             raise ValueError(\"Precomputed matrix must be a square matrix.\"\n\u001b[0m\u001b[0;32m    180\u001b[0m                              \u001b[1;34m\" Input is a {}x{} matrix.\"\u001b[0m\u001b[1;33m\u001b[0m\u001b[1;33m\u001b[0m\u001b[0m\n\u001b[0;32m    181\u001b[0m                              .format(X.shape[0], X.shape[1]))\n",
      "\u001b[1;31mValueError\u001b[0m: Precomputed matrix must be a square matrix. Input is a 1279x11 matrix."
     ]
    }
   ],
   "source": [
    "import pandas as pd\n",
    "import numpy as np\n",
    "from numpy import mean\n",
    "from sklearn import svm\n",
    "from sklearn.model_selection import train_test_split \n",
    "from sklearn.model_selection import cross_val_score\n",
    "from sklearn.metrics import accuracy_score,classification_report\n",
    "\n",
    "df=pd.read_csv('winequality-red.csv')\n",
    "x=df[list(df.columns)[ :-1]]\n",
    "y=df['quality']\n",
    "x,x_test,y,y_test=train_test_split(x,y,test_size=0.2)\n",
    "model= svm.SVC(C=1,random_state=42,kernel='precomputed',gamma='scale')\n",
    "model.fit(x,y)\n",
    "p=model.predict(x_test)\n",
    "print(accuracy_score(p,y_test))\n",
    "print(classification_report(p,y_test))"
   ]
  },
  {
   "cell_type": "code",
   "execution_count": 6,
   "metadata": {},
   "outputs": [
    {
     "name": "stdout",
     "output_type": "stream",
     "text": [
      "      fixed acidity  volatile acidity  citric acid  residual sugar  chlorides  \\\n",
      "471             9.6              0.54         0.42             2.4      0.081   \n",
      "56             10.2              0.42         0.57             3.4      0.070   \n",
      "553             5.0              1.04         0.24             1.6      0.050   \n",
      "1219            9.0              0.39         0.40             1.3      0.044   \n",
      "1317            9.9              0.44         0.46             2.2      0.091   \n",
      "...             ...               ...          ...             ...        ...   \n",
      "842            10.6              0.50         0.45             2.6      0.119   \n",
      "1088           11.6              0.41         0.54             1.5      0.095   \n",
      "1430            7.4              0.41         0.24             1.8      0.066   \n",
      "392             9.5              0.37         0.52             2.0      0.082   \n",
      "527             7.0              0.38         0.49             2.5      0.097   \n",
      "\n",
      "      free sulfur dioxide  total sulfur dioxide  density    pH  sulphates  \\\n",
      "471                  25.0                  52.0  0.99700  3.20       0.71   \n",
      "56                    4.0                  10.0  0.99710  3.04       0.63   \n",
      "553                  32.0                  96.0  0.99340  3.74       0.62   \n",
      "1219                 25.0                  50.0  0.99478  3.20       0.83   \n",
      "1317                 10.0                  41.0  0.99638  3.18       0.69   \n",
      "...                   ...                   ...      ...   ...        ...   \n",
      "842                  34.0                  68.0  0.99708  3.23       0.72   \n",
      "1088                 22.0                  41.0  0.99735  3.02       0.76   \n",
      "1430                 18.0                  47.0  0.99560  3.37       0.62   \n",
      "392                   6.0                  26.0  0.99800  3.18       0.51   \n",
      "527                  33.0                  85.0  0.99620  3.39       0.77   \n",
      "\n",
      "      alcohol  \n",
      "471      11.4  \n",
      "56        9.6  \n",
      "553      11.5  \n",
      "1219     10.9  \n",
      "1317     11.9  \n",
      "...       ...  \n",
      "842      10.9  \n",
      "1088      9.9  \n",
      "1430     10.4  \n",
      "392       9.5  \n",
      "527      11.4  \n",
      "\n",
      "[1279 rows x 11 columns]\n",
      "................\n",
      "      fixed acidity  volatile acidity  citric acid  residual sugar  chlorides  \\\n",
      "917             6.8             0.410         0.31             8.8      0.084   \n",
      "963             8.8             0.270         0.39             2.0      0.100   \n",
      "176             7.3             0.380         0.21             2.0      0.080   \n",
      "913             9.4             0.395         0.46             4.6      0.094   \n",
      "876             7.1             0.470         0.00             2.2      0.067   \n",
      "...             ...               ...          ...             ...        ...   \n",
      "1037            7.3             0.910         0.10             1.8      0.074   \n",
      "1246            7.4             0.740         0.07             1.7      0.086   \n",
      "1554            6.6             0.855         0.02             2.4      0.062   \n",
      "709             9.7             0.310         0.47             1.6      0.062   \n",
      "1577            6.2             0.700         0.15             5.1      0.076   \n",
      "\n",
      "      free sulfur dioxide  total sulfur dioxide  density    pH  sulphates  \\\n",
      "917                  26.0                  45.0  0.99824  3.38       0.64   \n",
      "963                  20.0                  27.0  0.99546  3.15       0.69   \n",
      "176                   7.0                  35.0  0.99610  3.33       0.47   \n",
      "913                   3.0                  10.0  0.99639  3.27       0.64   \n",
      "876                   7.0                  14.0  0.99517  3.40       0.58   \n",
      "...                   ...                   ...      ...   ...        ...   \n",
      "1037                 20.0                  56.0  0.99672  3.35       0.56   \n",
      "1246                 15.0                  48.0  0.99502  3.12       0.48   \n",
      "1554                 15.0                  23.0  0.99627  3.54       0.60   \n",
      "709                  13.0                  33.0  0.99830  3.27       0.66   \n",
      "1577                 13.0                  27.0  0.99622  3.54       0.60   \n",
      "\n",
      "      alcohol  \n",
      "917      10.1  \n",
      "963      11.2  \n",
      "176       9.5  \n",
      "913      12.2  \n",
      "876      10.9  \n",
      "...       ...  \n",
      "1037      9.2  \n",
      "1246     10.0  \n",
      "1554     11.0  \n",
      "709      10.0  \n",
      "1577     11.9  \n",
      "\n",
      "[320 rows x 11 columns]\n"
     ]
    }
   ],
   "source": [
    "import pandas as pd\n",
    "import numpy as np\n",
    "from numpy import mean\n",
    "from sklearn import svm\n",
    "from sklearn.model_selection import train_test_split \n",
    "from sklearn.model_selection import cross_val_score\n",
    "from sklearn.metrics import accuracy_score,classification_report\n",
    "\n",
    "df=pd.read_csv('winequality-red.csv')\n",
    "x=df[list(df.columns)[ :-1]]\n",
    "y=df['quality']\n",
    "x,x_test,y,y_test=train_test_split(x,y,test_size=0.2)\n",
    "from sklearn.preprocessing import StandardScaler\n",
    "scaler=StandardScaler()\n",
    "x=scaler.fit_transform(x)\n",
    "x=scaler.transform(x)\n",
    "print(x_test)\n"
   ]
  },
  {
   "cell_type": "code",
   "execution_count": null,
   "metadata": {},
   "outputs": [],
   "source": []
  }
 ],
 "metadata": {
  "kernelspec": {
   "display_name": "Python 3",
   "language": "python",
   "name": "python3"
  },
  "language_info": {
   "codemirror_mode": {
    "name": "ipython",
    "version": 3
   },
   "file_extension": ".py",
   "mimetype": "text/x-python",
   "name": "python",
   "nbconvert_exporter": "python",
   "pygments_lexer": "ipython3",
   "version": "3.9.2"
  }
 },
 "nbformat": 4,
 "nbformat_minor": 4
}
